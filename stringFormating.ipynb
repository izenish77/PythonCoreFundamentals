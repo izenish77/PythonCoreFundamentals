{
 "cells": [
  {
   "cell_type": "markdown",
   "metadata": {},
   "source": [
    "#There are 3 types od String Formating in python  \n",
    "##1. C-Style  or % formating  \n",
    "##2. .format method  \n",
    "##3. f-string method"
   ]
  },
  {
   "cell_type": "markdown",
   "metadata": {},
   "source": [
    "##C-style string formating  \n",
    "Python uses C-style string formatting to create new, formatted strings. The \"%\" operator is used to format a set of variables enclosed in a \"tuple\" (a fixed size list), together with a format string, which contains normal text together with \"argument specifiers\", special symbols like \"%s\" and \"%d\"."
   ]
  },
  {
   "cell_type": "markdown",
   "metadata": {},
   "source": [
    "Here are some basic argument specifiers :  \n",
    "%s - String (or any object with a string representation, like numbers)  \n",
    "%d - Integers  \n",
    "%f - Floating point numbers  \n",
    "%.<number of digits>f - Floating point numbers with a fixed amount of digits to the right of the dot.  \n",
    "%x/%X - Integers in hex representation (lowercase/uppercase)"
   ]
  },
  {
   "cell_type": "code",
   "execution_count": 2,
   "metadata": {},
   "outputs": [
    {
     "name": "stdout",
     "output_type": "stream",
     "text": [
      "My name is JENISH and I am 22 at the moment\n"
     ]
    }
   ],
   "source": [
    "NAME='JENISH'\n",
    "AGE=22\n",
    "print(\"My name is %s and I am %d at the moment\"%(NAME,AGE))"
   ]
  },
  {
   "cell_type": "markdown",
   "metadata": {},
   "source": [
    "##Fstring  \n",
    "\n",
    "PEP 498 introduced a new string formatting mechanism known as Literal String Interpolation or more commonly as F-strings"
   ]
  },
  {
   "cell_type": "code",
   "execution_count": 4,
   "metadata": {},
   "outputs": [
    {
     "name": "stdout",
     "output_type": "stream",
     "text": [
      "April 04/06/22 2022\n"
     ]
    }
   ],
   "source": [
    "import datetime\n",
    "today=datetime.datetime.today()\n",
    "print(f'{today:%B %D %Y}')"
   ]
  },
  {
   "cell_type": "markdown",
   "metadata": {},
   "source": [
    "##.format()"
   ]
  },
  {
   "cell_type": "markdown",
   "metadata": {},
   "source": [
    "**Syntax:{}.format(value)**"
   ]
  },
  {
   "cell_type": "code",
   "execution_count": 5,
   "metadata": {},
   "outputs": [
    {
     "name": "stdout",
     "output_type": "stream",
     "text": [
      "This article is written in Python\n"
     ]
    }
   ],
   "source": [
    "str = \"This article is written in {}\"\n",
    "print(str.format(\"Python\"))"
   ]
  },
  {
   "cell_type": "code",
   "execution_count": 6,
   "metadata": {},
   "outputs": [
    {
     "name": "stdout",
     "output_type": "stream",
     "text": [
      "Hi ! My name is Jenish and I am 22 years old\n"
     ]
    }
   ],
   "source": [
    "# different datatypes can be used in formatting\n",
    "print(\"Hi ! My name is {} and I am {} years old\".format(\"Jenish\", 22))"
   ]
  },
  {
   "cell_type": "markdown",
   "metadata": {},
   "source": [
    "Formating with Positional and keyword arguments"
   ]
  },
  {
   "cell_type": "code",
   "execution_count": 8,
   "metadata": {},
   "outputs": [
    {
     "name": "stdout",
     "output_type": "stream",
     "text": [
      "Hey, it me Jenish this is my 1 project at Cotiviti\n"
     ]
    }
   ],
   "source": [
    "print(\"Hey, it me {name} this is my {1} project at {0}\".format(\"Cotiviti\",1,name=\"Jenish\"))"
   ]
  },
  {
   "cell_type": "markdown",
   "metadata": {},
   "source": []
  },
  {
   "cell_type": "markdown",
   "metadata": {},
   "source": []
  }
 ],
 "metadata": {
  "interpreter": {
   "hash": "ac59ebe37160ed0dfa835113d9b8498d9f09ceb179beaac4002f036b9467c963"
  },
  "kernelspec": {
   "display_name": "Python 3.9.5 64-bit",
   "language": "python",
   "name": "python3"
  },
  "language_info": {
   "codemirror_mode": {
    "name": "ipython",
    "version": 3
   },
   "file_extension": ".py",
   "mimetype": "text/x-python",
   "name": "python",
   "nbconvert_exporter": "python",
   "pygments_lexer": "ipython3",
   "version": "3.9.5"
  },
  "orig_nbformat": 4
 },
 "nbformat": 4,
 "nbformat_minor": 2
}
