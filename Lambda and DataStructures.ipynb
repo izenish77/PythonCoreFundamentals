{
 "cells": [
  {
   "cell_type": "markdown",
   "metadata": {},
   "source": [
    "Day2"
   ]
  },
  {
   "cell_type": "code",
   "execution_count": 1,
   "metadata": {},
   "outputs": [],
   "source": [
    "import time"
   ]
  },
  {
   "cell_type": "code",
   "execution_count": 2,
   "metadata": {},
   "outputs": [],
   "source": [
    "def timer(function,*args,repetition,**kwargs):\n",
    "    start=time.perf_counter()\n",
    "    for i in range(repetition):\n",
    "        function(*args,**kwargs)\n",
    "    end=time.perf_counter()\n",
    "    return(end-start)/repetition"
   ]
  },
  {
   "cell_type": "code",
   "execution_count": 7,
   "metadata": {},
   "outputs": [
    {
     "data": {
      "text/plain": [
       "8.399999956054671e-06"
      ]
     },
     "execution_count": 7,
     "metadata": {},
     "output_type": "execute_result"
    }
   ],
   "source": [
    "def ntimesk(n,*,start,end):\n",
    "    result=[]\n",
    "    for x in range(start,end):\n",
    "        result.append(n*x)\n",
    "\n",
    "timer(ntimesk,n=9999,start=1,end=10,repetition=1)\n"
   ]
  },
  {
   "cell_type": "markdown",
   "metadata": {},
   "source": [
    "lambda expression"
   ]
  },
  {
   "cell_type": "code",
   "execution_count": 12,
   "metadata": {},
   "outputs": [
    {
     "data": {
      "text/plain": [
       "81"
      ]
     },
     "execution_count": 12,
     "metadata": {},
     "output_type": "execute_result"
    }
   ],
   "source": [
    "(lambda x:x**2)(9)"
   ]
  },
  {
   "cell_type": "code",
   "execution_count": 10,
   "metadata": {},
   "outputs": [],
   "source": [
    "func=lambda x,y: x**y"
   ]
  },
  {
   "cell_type": "code",
   "execution_count": 11,
   "metadata": {},
   "outputs": [
    {
     "data": {
      "text/plain": [
       "387420489"
      ]
     },
     "execution_count": 11,
     "metadata": {},
     "output_type": "execute_result"
    }
   ],
   "source": [
    "func(9,9)"
   ]
  },
  {
   "cell_type": "code",
   "execution_count": 26,
   "metadata": {},
   "outputs": [],
   "source": [
    "full_name=(lambda first,last:f'FullName:{first} LastName:{last}')"
   ]
  },
  {
   "cell_type": "code",
   "execution_count": 27,
   "metadata": {},
   "outputs": [
    {
     "data": {
      "text/plain": [
       "'FullName:jenish LastName:prajapati'"
      ]
     },
     "execution_count": 27,
     "metadata": {},
     "output_type": "execute_result"
    }
   ],
   "source": [
    "full_name('jenish','prajapati')"
   ]
  },
  {
   "cell_type": "markdown",
   "metadata": {},
   "source": [
    "Passing as an argument  \n",
    "Lambdas are functions and can therefore be passed to any other function as an argument (or returned from other fucntions)"
   ]
  },
  {
   "cell_type": "code",
   "execution_count": 47,
   "metadata": {},
   "outputs": [
    {
     "data": {
      "text/plain": [
       "1.4700000065204223e-06"
      ]
     },
     "execution_count": 47,
     "metadata": {},
     "output_type": "execute_result"
    }
   ],
   "source": [
    "'here timer is the function that we previously made to track our time cost'\n",
    "\n",
    "timer(lambda x,y:x**y,x=3,y=10,repetition=10)"
   ]
  },
  {
   "cell_type": "code",
   "execution_count": 52,
   "metadata": {},
   "outputs": [
    {
     "name": "stdout",
     "output_type": "stream",
     "text": [
      "✔🆗✔🆗✔🆗✔🆗✔🆗\n"
     ]
    }
   ],
   "source": [
    "def printThis(function,*args,**kwargs):\n",
    "    print(function(*args,**kwargs))\n",
    "\n",
    "printThis(lambda x,y:x*y,'✔🆗',5)"
   ]
  },
  {
   "cell_type": "markdown",
   "metadata": {},
   "source": [
    "Lambdas and Sorting"
   ]
  },
  {
   "cell_type": "markdown",
   "metadata": {},
   "source": [
    "Python has a builtin sorted method that can be used to sort any iterables. We can make use of keyword=only argument that allows us to modify the value that are used to sort"
   ]
  },
  {
   "cell_type": "code",
   "execution_count": 55,
   "metadata": {},
   "outputs": [
    {
     "name": "stdout",
     "output_type": "stream",
     "text": [
      " the default sort is ['B', 'D', 'a', 'c']\n",
      "after using Lambda to sort by CapitalCases ['a', 'B', 'c', 'D']\n"
     ]
    }
   ],
   "source": [
    "l=['a','B','c','D']\n",
    "print(f' the default sort is {sorted(l)}',end=\"\\n\")\n",
    "\n",
    "print(f'after using Lambda to sort by CapitalCases {sorted(l,key=lambda x:x.upper())}')"
   ]
  },
  {
   "cell_type": "markdown",
   "metadata": {},
   "source": [
    "By default iterating through a dictionary only iterates through the keys , so to iterate through the values we can use the lamda function"
   ]
  },
  {
   "cell_type": "code",
   "execution_count": 61,
   "metadata": {},
   "outputs": [
    {
     "name": "stdout",
     "output_type": "stream",
     "text": [
      "Default sorting sorts keys ['abc', 'def', 'ghi']\n",
      " sorting via values['def', 'ghi', 'abc']\n"
     ]
    }
   ],
   "source": [
    "list1={'abc':10,'def':3,'ghi':5}\n",
    "print(f'Default sorting sorts keys {sorted(list1)}')\n",
    "\n",
    "print(f' sorting via values{sorted(list1,key=lambda x:list1[x])}')\n",
    "\n",
    "\n"
   ]
  },
  {
   "cell_type": "code",
   "execution_count": 62,
   "metadata": {},
   "outputs": [
    {
     "name": "stdout",
     "output_type": "stream",
     "text": [
      "['Cleese', 'Idle', 'Gilliam', 'Palin', 'Chapman', 'Jones']\n"
     ]
    }
   ],
   "source": [
    "l = ['Cleese', 'Idle', 'Palin', 'Chapman', 'Gilliam', 'Jones']\n",
    "'Sorting acc to the last character'\n",
    "\n",
    "print(sorted(l,key=lambda x:x[-1]))"
   ]
  },
  {
   "cell_type": "markdown",
   "metadata": {},
   "source": [
    "DataStructures Stact and Queue"
   ]
  },
  {
   "cell_type": "markdown",
   "metadata": {},
   "source": [
    "Stack  \n",
    "\n",
    "A Stack is a data structure that follows the LIFO(Last In First Out) principle. To implement a stack, we need two simple operations:\n",
    "  \n",
    "\n",
    "push - It adds an element to the top of the stack.  \n",
    "\n",
    "pop - It removes an element from the top of the stack."
   ]
  },
  {
   "cell_type": "code",
   "execution_count": 67,
   "metadata": {},
   "outputs": [
    {
     "data": {
      "text/plain": [
       "[5]"
      ]
     },
     "execution_count": 67,
     "metadata": {},
     "output_type": "execute_result"
    }
   ],
   "source": [
    "data=[]\n",
    "data.append(5) #pushing\n",
    "data\n"
   ]
  },
  {
   "cell_type": "code",
   "execution_count": 68,
   "metadata": {},
   "outputs": [
    {
     "data": {
      "text/plain": [
       "5"
      ]
     },
     "execution_count": 68,
     "metadata": {},
     "output_type": "execute_result"
    }
   ],
   "source": [
    "data.pop() #poping + it always returns the value"
   ]
  },
  {
   "cell_type": "markdown",
   "metadata": {},
   "source": [
    "Queue in Python   \n",
    "using a list"
   ]
  },
  {
   "cell_type": "code",
   "execution_count": 71,
   "metadata": {},
   "outputs": [
    {
     "data": {
      "text/plain": [
       "[50, 30]"
      ]
     },
     "execution_count": 71,
     "metadata": {},
     "output_type": "execute_result"
    }
   ],
   "source": [
    "data=[] #First in First out\n",
    "data.append(50) #the same as a stack\n",
    "data.append(30)\n",
    "data"
   ]
  },
  {
   "cell_type": "code",
   "execution_count": 72,
   "metadata": {},
   "outputs": [
    {
     "data": {
      "text/plain": [
       "50"
      ]
     },
     "execution_count": 72,
     "metadata": {},
     "output_type": "execute_result"
    }
   ],
   "source": [
    "data.pop(0) #(0) is the only difference as its the leftmost value"
   ]
  },
  {
   "cell_type": "markdown",
   "metadata": {},
   "source": [
    "Usind deque"
   ]
  },
  {
   "cell_type": "code",
   "execution_count": 73,
   "metadata": {},
   "outputs": [],
   "source": [
    "from collections import deque"
   ]
  },
  {
   "cell_type": "code",
   "execution_count": 74,
   "metadata": {},
   "outputs": [
    {
     "data": {
      "text/plain": [
       "'Jenish'"
      ]
     },
     "execution_count": 74,
     "metadata": {},
     "output_type": "execute_result"
    }
   ],
   "source": [
    "data=deque()\n",
    "data.append(\"Jenish\")\n",
    "data.popleft()  #doesn't require 0 to pass\n"
   ]
  },
  {
   "cell_type": "code",
   "execution_count": null,
   "metadata": {},
   "outputs": [],
   "source": []
  }
 ],
 "metadata": {
  "interpreter": {
   "hash": "ac59ebe37160ed0dfa835113d9b8498d9f09ceb179beaac4002f036b9467c963"
  },
  "kernelspec": {
   "display_name": "Python 3.9.5 64-bit",
   "language": "python",
   "name": "python3"
  },
  "language_info": {
   "codemirror_mode": {
    "name": "ipython",
    "version": 3
   },
   "file_extension": ".py",
   "mimetype": "text/x-python",
   "name": "python",
   "nbconvert_exporter": "python",
   "pygments_lexer": "ipython3",
   "version": "3.9.5"
  },
  "orig_nbformat": 4
 },
 "nbformat": 4,
 "nbformat_minor": 2
}
