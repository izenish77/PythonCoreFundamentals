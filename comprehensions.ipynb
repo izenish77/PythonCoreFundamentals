{
 "cells": [
  {
   "cell_type": "markdown",
   "metadata": {},
   "source": [
    "#Comprehensions in Python"
   ]
  },
  {
   "cell_type": "markdown",
   "metadata": {},
   "source": [
    "**output_list=[output_exp for var in input_list if(var satisfies this condition)]**  \n",
    "Note: the if conditions isnt compulsory"
   ]
  },
  {
   "cell_type": "markdown",
   "metadata": {},
   "source": [
    "##List comprehension"
   ]
  },
  {
   "cell_type": "code",
   "execution_count": 13,
   "metadata": {},
   "outputs": [],
   "source": [
    "input_list=[23,22,123,5,3,22,3,19,90,78]\n",
    "'''Program to only get the even numbers from the list'''\n",
    "x=[element for element in input_list if element%2==0]\n",
    "\n"
   ]
  },
  {
   "cell_type": "code",
   "execution_count": 10,
   "metadata": {},
   "outputs": [
    {
     "data": {
      "text/plain": [
       "[22, 22, 90, 78]"
      ]
     },
     "execution_count": 10,
     "metadata": {},
     "output_type": "execute_result"
    }
   ],
   "source": [
    "x\n"
   ]
  },
  {
   "cell_type": "code",
   "execution_count": 14,
   "metadata": {},
   "outputs": [
    {
     "data": {
      "text/plain": [
       "[1, 4, 9, 16, 25, 36, 49, 64, 81]"
      ]
     },
     "execution_count": 14,
     "metadata": {},
     "output_type": "execute_result"
    }
   ],
   "source": [
    "sq=[x**2 for x in range(1,10)]\n",
    "'Square of each number till 9'\n",
    "sq"
   ]
  },
  {
   "cell_type": "markdown",
   "metadata": {},
   "source": [
    "##Dictionary comprehension"
   ]
  },
  {
   "cell_type": "markdown",
   "metadata": {},
   "source": [
    "**output_dict={key:value for (key,value) in iterable if (key,value satisfies this condition)}**"
   ]
  },
  {
   "cell_type": "code",
   "execution_count": 38,
   "metadata": {},
   "outputs": [
    {
     "data": {
      "text/plain": [
       "{'a': 1, 'b': 8, 'c': 27}"
      ]
     },
     "execution_count": 38,
     "metadata": {},
     "output_type": "execute_result"
    }
   ],
   "source": [
    "x = {'a': 1, 'b': 2, 'c': 3}\n",
    "\n",
    "{key:v**3 for (key, v) in x.items()}"
   ]
  },
  {
   "cell_type": "code",
   "execution_count": 20,
   "metadata": {},
   "outputs": [
    {
     "data": {
      "text/plain": [
       "{9: 729, 5: 125}"
      ]
     },
     "execution_count": 20,
     "metadata": {},
     "output_type": "execute_result"
    }
   ],
   "source": [
    "'Dict with Odd numbers as keys and their cubes as value from a given list'\n",
    "input_list = [9,8,6,0,4,6,5,5,4,0]\n",
    "newdict={x:x**3 for x in input_list if x%2!=0 }\n",
    "newdict"
   ]
  },
  {
   "cell_type": "code",
   "execution_count": 23,
   "metadata": {},
   "outputs": [
    {
     "name": "stdout",
     "output_type": "stream",
     "text": [
      "{9: 729, 5: 125}\n"
     ]
    }
   ],
   "source": [
    "'The same above program without Dict comprehension'\n",
    "input_list = [9,8,6,0,4,6,5,5,4,0]\n",
    "newdict={}\n",
    "for x in input_list:\n",
    "    if x%2!=0:\n",
    "        newdict[x]=x**3\n",
    "\n",
    "print(newdict)\n"
   ]
  },
  {
   "cell_type": "code",
   "execution_count": 29,
   "metadata": {},
   "outputs": [
    {
     "data": {
      "text/plain": [
       "{'Samoa': 'Apia',\n",
       " 'Albania': 'Tirana',\n",
       " 'Algeria': 'Algiers',\n",
       " 'Nepal': 'Kathmandu'}"
      ]
     },
     "execution_count": 29,
     "metadata": {},
     "output_type": "execute_result"
    }
   ],
   "source": [
    "state = ['Samoa', 'Albania', 'Algeria','Nepal']\n",
    "capital = ['Apia', 'Tirana', 'Algiers','Kathmandu']\n",
    "newdict={x:y for (x,y) in zip(state,capital)}\n",
    "'The zip() fun takes iterables (can be 0 or more),aggregates them in a tuple and returns it'\n",
    "newdict"
   ]
  },
  {
   "cell_type": "markdown",
   "metadata": {},
   "source": [
    "##Set Comprehensions"
   ]
  },
  {
   "cell_type": "markdown",
   "metadata": {},
   "source": [
    "Same as a list comprehension but uses {}  \n",
    "also duplicate data are eradicated"
   ]
  },
  {
   "cell_type": "code",
   "execution_count": 30,
   "metadata": {},
   "outputs": [
    {
     "data": {
      "text/plain": [
       "{0, 2, 4, 8}"
      ]
     },
     "execution_count": 30,
     "metadata": {},
     "output_type": "execute_result"
    }
   ],
   "source": [
    "input_list=[9,8,4,1,2,0,9,4,0,8]\n",
    "newset={x for x in input_list if x%2==0}\n",
    "\n",
    "newset"
   ]
  },
  {
   "cell_type": "markdown",
   "metadata": {},
   "source": [
    "##Generator Comprehensions"
   ]
  },
  {
   "cell_type": "markdown",
   "metadata": {},
   "source": [
    "**generator comprehensions are similar to list comprehensions**\n",
    "**but use () and don't allocate memory for the whole list instead** **generate each value one by onewhich makes it more memory efficient**"
   ]
  },
  {
   "cell_type": "code",
   "execution_count": 37,
   "metadata": {},
   "outputs": [
    {
     "name": "stdout",
     "output_type": "stream",
     "text": [
      "This<generator object <genexpr> at 0x00000140F3F7AD60> of <class 'generator'>\n",
      "9\n",
      "3\n",
      "6\n",
      "3\n",
      "3\n"
     ]
    }
   ],
   "source": [
    "input_list=[9,8,4,3,6,4,5,2,3,3]\n",
    "newgen=(x for x in input_list if x%3==0)\n",
    "\n",
    "print(f'This{newgen} of {type(newgen)}')\n",
    "for var in newgen:\n",
    "    print(var)"
   ]
  }
 ],
 "metadata": {
  "interpreter": {
   "hash": "ac59ebe37160ed0dfa835113d9b8498d9f09ceb179beaac4002f036b9467c963"
  },
  "kernelspec": {
   "display_name": "Python 3.9.5 64-bit",
   "language": "python",
   "name": "python3"
  },
  "language_info": {
   "codemirror_mode": {
    "name": "ipython",
    "version": 3
   },
   "file_extension": ".py",
   "mimetype": "text/x-python",
   "name": "python",
   "nbconvert_exporter": "python",
   "pygments_lexer": "ipython3",
   "version": "3.9.5"
  },
  "orig_nbformat": 4
 },
 "nbformat": 4,
 "nbformat_minor": 2
}
