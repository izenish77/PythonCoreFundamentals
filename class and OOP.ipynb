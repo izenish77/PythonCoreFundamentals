{
 "cells": [
  {
   "cell_type": "code",
   "execution_count": 1,
   "metadata": {},
   "outputs": [
    {
     "name": "stdout",
     "output_type": "stream",
     "text": [
      "Hello WOrld\n"
     ]
    }
   ],
   "source": [
    "print(\"Hello WOrld\")"
   ]
  },
  {
   "cell_type": "markdown",
   "metadata": {},
   "source": [
    "Basic Class and Object Pattern"
   ]
  },
  {
   "cell_type": "code",
   "execution_count": 2,
   "metadata": {},
   "outputs": [
    {
     "name": "stdout",
     "output_type": "stream",
     "text": [
      "1 3\n"
     ]
    }
   ],
   "source": [
    "class ClassA:\n",
    "    def __init__(self,x,y):\n",
    "        self.x=x\n",
    "        self.y=y\n",
    "        '''slef.x and self.y are instance variables that last throughout the object\n",
    "        but the x and y are just the parameters'''\n",
    "\n",
    "    def FuncA(self):\n",
    "        print(self.x,self.y)\n",
    "\n",
    "Obj=ClassA(1, 3)\n",
    "Obj.FuncA()"
   ]
  },
  {
   "cell_type": "markdown",
   "metadata": {},
   "source": [
    "JUPYTER SHORTCUTS\n",
    "Esc to enter edit mode\n",
    "A to add new column\n",
    "M to markdown\n",
    "Y to enter code mode\n",
    "CTRL ENTER to run"
   ]
  },
  {
   "cell_type": "code",
   "execution_count": 3,
   "metadata": {},
   "outputs": [
    {
     "name": "stdout",
     "output_type": "stream",
     "text": [
      "2388840932544\n",
      "\n",
      "\n",
      "2388840932640\n"
     ]
    }
   ],
   "source": [
    "class Person:\n",
    "    def display(self):\n",
    "        print('I am a person')\n",
    "    \n",
    "    def great(self):\n",
    "        print(\"hello\")\n",
    "Xob=Person()\n",
    "Xob2=Person()\n",
    "print(id(Xob))\n",
    "print('\\n')\n",
    "print(id(Xob2))\n"
   ]
  },
  {
   "cell_type": "markdown",
   "metadata": {},
   "source": [
    "calling a method inside another method can be achieved through self parameter"
   ]
  },
  {
   "cell_type": "code",
   "execution_count": 4,
   "metadata": {},
   "outputs": [
    {
     "name": "stdout",
     "output_type": "stream",
     "text": [
      "World\n",
      "Hello\n"
     ]
    }
   ],
   "source": [
    "class Person:\n",
    "    def display(self,x,y):\n",
    "        self.x=x\n",
    "        self.y=y\n",
    "    \n",
    "    def great(self):\n",
    "        print(self.x)\n",
    "    def notgreat(self):\n",
    "        print(self.y)\n",
    "        self.great()\n",
    "Xob=Person()\n",
    "Xob.display(\"Hello\",\"World\")\n",
    "Xob.notgreat()"
   ]
  },
  {
   "cell_type": "code",
   "execution_count": 5,
   "metadata": {},
   "outputs": [
    {
     "name": "stdout",
     "output_type": "stream",
     "text": [
      "10\n"
     ]
    }
   ],
   "source": [
    "class Test:\n",
    "    def method1(self):\n",
    "        self.x=10\n",
    "    \n",
    "    def display(self):\n",
    "        print(self.x)\n",
    "t=Test()\n",
    "t.method1()\n",
    "t.display()"
   ]
  },
  {
   "cell_type": "markdown",
   "metadata": {},
   "source": [
    "the class object is created when the class definition is executed\n"
   ]
  },
  {
   "cell_type": "markdown",
   "metadata": {},
   "source": [
    "self jahile pani specify hunu parxa even if the function takes no parameter"
   ]
  },
  {
   "cell_type": "markdown",
   "metadata": {},
   "source": [
    "Instantiation of the class creates a new instance object"
   ]
  },
  {
   "cell_type": "markdown",
   "metadata": {},
   "source": [
    "#What is UnboundLocalError: local variable referenced before assignment?"
   ]
  },
  {
   "cell_type": "markdown",
   "metadata": {},
   "source": [
    " This error is raised when you try to use a variable before it has been assigned in the local context."
   ]
  },
  {
   "cell_type": "code",
   "execution_count": 6,
   "metadata": {},
   "outputs": [],
   "source": [
    "numerical = 36\n",
    "letter = \"F\""
   ]
  },
  {
   "cell_type": "code",
   "execution_count": 7,
   "metadata": {},
   "outputs": [],
   "source": [
    "def calculate_grade(grade):\n",
    "\tif grade > 80:\n",
    "\t\tletter = \"A\"\n",
    "\telif grade > 70:\n",
    "\t\tletter = \"B\"\n",
    "\telif grade > 60:\n",
    "\t\tletter = \"C\"\n",
    "\telif grade > 50:\n",
    "\t\tletter = \"D\"\n",
    "\treturn letter"
   ]
  },
  {
   "cell_type": "code",
   "execution_count": 8,
   "metadata": {},
   "outputs": [
    {
     "ename": "UnboundLocalError",
     "evalue": "local variable 'letter' referenced before assignment",
     "output_type": "error",
     "traceback": [
      "\u001b[1;31m---------------------------------------------------------------------------\u001b[0m",
      "\u001b[1;31mUnboundLocalError\u001b[0m                         Traceback (most recent call last)",
      "\u001b[1;32md:\\python\\revisionv1.0.ipynb Cell 16'\u001b[0m in \u001b[0;36m<cell line: 1>\u001b[1;34m()\u001b[0m\n\u001b[1;32m----> <a href='vscode-notebook-cell:/d%3A/python/revisionv1.0.ipynb#ch0000015?line=0'>1</a>\u001b[0m \u001b[39mprint\u001b[39m(calculate_grade(numerical))\n",
      "\u001b[1;32md:\\python\\revisionv1.0.ipynb Cell 15'\u001b[0m in \u001b[0;36mcalculate_grade\u001b[1;34m(grade)\u001b[0m\n\u001b[0;32m      <a href='vscode-notebook-cell:/d%3A/python/revisionv1.0.ipynb#ch0000014?line=7'>8</a>\u001b[0m \u001b[39melif\u001b[39;00m grade \u001b[39m>\u001b[39m \u001b[39m50\u001b[39m:\n\u001b[0;32m      <a href='vscode-notebook-cell:/d%3A/python/revisionv1.0.ipynb#ch0000014?line=8'>9</a>\u001b[0m \tletter \u001b[39m=\u001b[39m \u001b[39m\"\u001b[39m\u001b[39mD\u001b[39m\u001b[39m\"\u001b[39m\n\u001b[1;32m---> <a href='vscode-notebook-cell:/d%3A/python/revisionv1.0.ipynb#ch0000014?line=9'>10</a>\u001b[0m \u001b[39mreturn\u001b[39;00m letter\n",
      "\u001b[1;31mUnboundLocalError\u001b[0m: local variable 'letter' referenced before assignment"
     ]
    }
   ],
   "source": [
    "print(calculate_grade(numerical))"
   ]
  },
  {
   "cell_type": "markdown",
   "metadata": {},
   "source": [
    "Our code returns an error because we reference “letter” before we assign it.\n",
    "\n",
    "We have set the value of “numerical” to 42. Our if statement does not set a value for any grade over 50. This means that when we call our calculate_grade() function, our return statement does not know the value to which we are referring."
   ]
  },
  {
   "cell_type": "markdown",
   "metadata": {},
   "source": [
    "We do define “letter” at the start of our program. However, we define it in the global context. Python treats “return letter” as trying to return a local variable called “letter”, not a global variable."
   ]
  },
  {
   "cell_type": "markdown",
   "metadata": {},
   "source": [
    "SOLUTION"
   ]
  },
  {
   "cell_type": "code",
   "execution_count": 9,
   "metadata": {},
   "outputs": [
    {
     "name": "stdout",
     "output_type": "stream",
     "text": [
      "z\n"
     ]
    }
   ],
   "source": [
    "numerical=8\n",
    "letter='z'\n",
    "\n",
    "def calculate_grade(grade):\n",
    "\tglobal letter\n",
    "\tif grade > 80:\n",
    "\t\tletter = \"A\"\n",
    "\telif grade > 70:\n",
    "\t\tletter = \"B\"\n",
    "\telif grade > 60:\n",
    "\t\tletter = \"C\"\n",
    "\telif grade > 50:\n",
    "\t\tletter = \"D\"\n",
    "\telse:\n",
    "\t\t# letter = \"F\"\n",
    "\t\treturn letter\n",
    "print(calculate_grade(numerical))\n",
    "\n"
   ]
  },
  {
   "cell_type": "markdown",
   "metadata": {},
   "source": [
    "GLOBAL VARIABLE CANT BE MODIFIED INSIDE A CLASS\n",
    "INSTEAD TO MODIFY THAT WE NEED TO USE THE GLOBAL KEYWORD INSIDE THE METHOD"
   ]
  },
  {
   "cell_type": "markdown",
   "metadata": {},
   "source": [
    "Data hiding"
   ]
  },
  {
   "cell_type": "markdown",
   "metadata": {},
   "source": [
    "anything inside a class is public \n",
    "but _name is used to define it as a private objects\n",
    "_ ayo vane telai private varera bujne even if we cant do anything about it, bujna lai vayeni "
   ]
  },
  {
   "cell_type": "markdown",
   "metadata": {},
   "source": [
    "if you prefix a name with a _ , it indicates that this name is non public"
   ]
  },
  {
   "cell_type": "markdown",
   "metadata": {},
   "source": [
    "single pre underscore doesn't stop you from accessing the single pre underscore variable."
   ]
  },
  {
   "cell_type": "markdown",
   "metadata": {},
   "source": [
    "But, single pre underscore effects the names that are imported from the module."
   ]
  },
  {
   "cell_type": "code",
   "execution_count": 10,
   "metadata": {},
   "outputs": [
    {
     "data": {
      "text/plain": [
       "12"
      ]
     },
     "execution_count": 10,
     "metadata": {},
     "output_type": "execute_result"
    }
   ],
   "source": [
    "class Product:\n",
    "    def __init__(self,x,y):\n",
    "        self._x=x\n",
    "        self._y=y\n",
    "\n",
    "    def display(self):\n",
    "        print(self._x,self._y)\n",
    "    @property\n",
    "    def value(self):\n",
    "        return self._x\n",
    "\n",
    "p=Product(12,24)\n",
    "p.value"
   ]
  },
  {
   "cell_type": "markdown",
   "metadata": {},
   "source": [
    "@property ayexi we can access it as a instance variable..........\n",
    "no need to do p.value() just p.value"
   ]
  },
  {
   "cell_type": "markdown",
   "metadata": {},
   "source": [
    "we can only instance it but cant modify it"
   ]
  },
  {
   "cell_type": "markdown",
   "metadata": {},
   "source": []
  },
  {
   "cell_type": "code",
   "execution_count": 11,
   "metadata": {},
   "outputs": [
    {
     "data": {
      "text/plain": [
       "10"
      ]
     },
     "execution_count": 11,
     "metadata": {},
     "output_type": "execute_result"
    }
   ],
   "source": [
    "class Product:\n",
    "    def __init__(self,x,y):\n",
    "        self._x=x\n",
    "        self._y=y\n",
    "\n",
    "    def display(self):\n",
    "        print(self._x,self._y)\n",
    "    @property\n",
    "    def value(self):\n",
    "        return self._x\n",
    "    @value.setter\n",
    "    def value(self,x):\n",
    "        self._x=x\n",
    "\n",
    "p=Product(12,24)\n",
    "p.value=10\n",
    "p.value"
   ]
  },
  {
   "cell_type": "markdown",
   "metadata": {},
   "source": [
    "Role of Underscore(_) in Python Tutorial  https://www.datacamp.com/community/tutorials/role-underscore-python#UII"
   ]
  },
  {
   "cell_type": "markdown",
   "metadata": {},
   "source": [
    "@proprty is a getter decorator while @classname.setter is a setter \n"
   ]
  },
  {
   "cell_type": "code",
   "execution_count": 12,
   "metadata": {},
   "outputs": [],
   "source": [
    "class Employee:\n",
    "    def __init__(self,x,y,z,u):\n",
    "        self._name=x\n",
    "        self._password=y\n",
    "        self._salary=z\n",
    "        self._nickname=u\n",
    "    @property\n",
    "    def name(self):\n",
    "        return self._name\n",
    "\n",
    "    \n",
    "    def nickname(self):\n",
    "        return self._nickname\n",
    "    \n",
    "    \n",
    "    def nickname(self,newNickname):\n",
    "        self._nickname=newNickname\n",
    "    \n",
    "    @property\n",
    "    def password(self):\n",
    "        raise AttributeError('Password not readable')\n",
    "    @password.setter\n",
    "    def password(self,new_password):\n",
    "        self.password=new_password\n",
    "    @property\n",
    "    def salary(self):\n",
    "        return self._salary\n",
    "    def salary(self,newsalary):\n",
    "        self._salary=newsalary\n"
   ]
  },
  {
   "cell_type": "code",
   "execution_count": 13,
   "metadata": {},
   "outputs": [],
   "source": [
    "e=Employee(\"Rick\",\"password\",5000,\"Motey\")"
   ]
  },
  {
   "cell_type": "code",
   "execution_count": 14,
   "metadata": {},
   "outputs": [
    {
     "data": {
      "text/plain": [
       "'Rick'"
      ]
     },
     "execution_count": 14,
     "metadata": {},
     "output_type": "execute_result"
    }
   ],
   "source": [
    "e.name"
   ]
  },
  {
   "cell_type": "code",
   "execution_count": 15,
   "metadata": {},
   "outputs": [
    {
     "ename": "AttributeError",
     "evalue": "can't set attribute",
     "output_type": "error",
     "traceback": [
      "\u001b[1;31m---------------------------------------------------------------------------\u001b[0m",
      "\u001b[1;31mAttributeError\u001b[0m                            Traceback (most recent call last)",
      "\u001b[1;32md:\\python\\revisionv1.0.ipynb Cell 37'\u001b[0m in \u001b[0;36m<cell line: 1>\u001b[1;34m()\u001b[0m\n\u001b[1;32m----> <a href='vscode-notebook-cell:/d%3A/python/revisionv1.0.ipynb#ch0000036?line=0'>1</a>\u001b[0m e\u001b[39m.\u001b[39mname\u001b[39m=\u001b[39m\u001b[39m\"\u001b[39m\u001b[39mZen\u001b[39m\u001b[39m\"\u001b[39m\n",
      "\u001b[1;31mAttributeError\u001b[0m: can't set attribute"
     ]
    }
   ],
   "source": [
    "e.name=\"Zen\""
   ]
  },
  {
   "cell_type": "markdown",
   "metadata": {},
   "source": [
    "The above error is because we havent assigned the setter property"
   ]
  },
  {
   "cell_type": "code",
   "execution_count": 16,
   "metadata": {},
   "outputs": [
    {
     "data": {
      "text/plain": [
       "<bound method Employee.nickname of <__main__.Employee object at 0x0000022C32ADCC70>>"
      ]
     },
     "execution_count": 16,
     "metadata": {},
     "output_type": "execute_result"
    }
   ],
   "source": [
    "e.nickname"
   ]
  },
  {
   "cell_type": "code",
   "execution_count": 17,
   "metadata": {},
   "outputs": [],
   "source": [
    "e.nickname=\"Benelli roider\""
   ]
  },
  {
   "cell_type": "code",
   "execution_count": 18,
   "metadata": {},
   "outputs": [
    {
     "data": {
      "text/plain": [
       "'Benelli roider'"
      ]
     },
     "execution_count": 18,
     "metadata": {},
     "output_type": "execute_result"
    }
   ],
   "source": [
    "e.nickname"
   ]
  },
  {
   "cell_type": "markdown",
   "metadata": {},
   "source": [
    "we can also initiate a deleter method"
   ]
  },
  {
   "cell_type": "code",
   "execution_count": 19,
   "metadata": {},
   "outputs": [
    {
     "data": {
      "text/plain": [
       "10"
      ]
     },
     "execution_count": 19,
     "metadata": {},
     "output_type": "execute_result"
    }
   ],
   "source": [
    "5+5"
   ]
  },
  {
   "cell_type": "code",
   "execution_count": 20,
   "metadata": {},
   "outputs": [
    {
     "data": {
      "text/plain": [
       "11"
      ]
     },
     "execution_count": 20,
     "metadata": {},
     "output_type": "execute_result"
    }
   ],
   "source": [
    "1+_"
   ]
  },
  {
   "cell_type": "markdown",
   "metadata": {},
   "source": [
    "'''_ holds the previous result and can be assigned to another variable'''\n"
   ]
  },
  {
   "cell_type": "markdown",
   "metadata": {},
   "source": [
    "Class variables are those variable defined inside the classes but outside the methods"
   ]
  },
  {
   "cell_type": "code",
   "execution_count": 21,
   "metadata": {},
   "outputs": [
    {
     "data": {
      "text/plain": [
       "5"
      ]
     },
     "execution_count": 21,
     "metadata": {},
     "output_type": "execute_result"
    }
   ],
   "source": [
    "class Account():\n",
    "    rate=5\n",
    "a1=Account()\n",
    "a3=Account()\n",
    "\n",
    "Account.rate\n"
   ]
  },
  {
   "cell_type": "code",
   "execution_count": 22,
   "metadata": {},
   "outputs": [
    {
     "data": {
      "text/plain": [
       "5"
      ]
     },
     "execution_count": 22,
     "metadata": {},
     "output_type": "execute_result"
    }
   ],
   "source": [
    "a1.rate"
   ]
  },
  {
   "cell_type": "code",
   "execution_count": 23,
   "metadata": {},
   "outputs": [],
   "source": [
    "Account.rate=99"
   ]
  },
  {
   "cell_type": "code",
   "execution_count": 24,
   "metadata": {},
   "outputs": [],
   "source": [
    "a1.rate=10"
   ]
  },
  {
   "cell_type": "code",
   "execution_count": 25,
   "metadata": {},
   "outputs": [
    {
     "data": {
      "text/plain": [
       "99"
      ]
     },
     "execution_count": 25,
     "metadata": {},
     "output_type": "execute_result"
    }
   ],
   "source": [
    "Account.rate"
   ]
  },
  {
   "cell_type": "code",
   "execution_count": 26,
   "metadata": {},
   "outputs": [
    {
     "data": {
      "text/plain": [
       "10"
      ]
     },
     "execution_count": 26,
     "metadata": {},
     "output_type": "execute_result"
    }
   ],
   "source": [
    "a1.rate"
   ]
  },
  {
   "cell_type": "code",
   "execution_count": 27,
   "metadata": {},
   "outputs": [
    {
     "data": {
      "text/plain": [
       "2388755895728"
      ]
     },
     "execution_count": 27,
     "metadata": {},
     "output_type": "execute_result"
    }
   ],
   "source": [
    "id(Account.rate)"
   ]
  },
  {
   "cell_type": "code",
   "execution_count": 28,
   "metadata": {},
   "outputs": [
    {
     "data": {
      "text/plain": [
       "2388755704400"
      ]
     },
     "execution_count": 28,
     "metadata": {},
     "output_type": "execute_result"
    }
   ],
   "source": [
    "id(a1.rate)"
   ]
  },
  {
   "cell_type": "markdown",
   "metadata": {},
   "source": [
    "to change the class object access it throught the class name"
   ]
  },
  {
   "cell_type": "code",
   "execution_count": 29,
   "metadata": {},
   "outputs": [
    {
     "name": "stdout",
     "output_type": "stream",
     "text": [
      "Account.rate is 99\n",
      "while instance.rate is 99\n",
      "the id of Account.rate is 2388755895728 \n",
      "        while the id of self.rate is 2388755895728\n",
      "Account.rate is 99\n",
      "while instance.rate is 100\n",
      "the id of Account.rate is 2388755895728 \n",
      "        while the id of self.rate is 2388755895760\n"
     ]
    }
   ],
   "source": [
    "class Account:\n",
    "    rate=99\n",
    "\n",
    "    def Meth1(self):\n",
    "        print(f'Account.rate is {Account.rate}\\nwhile instance.rate is {self.rate}\\nthe id of Account.rate is {id(Account.rate)} \\n        while the id of self.rate is {id(self.rate)}')\n",
    "        self.rate+=1\n",
    "        print(f'Account.rate is {Account.rate}\\nwhile instance.rate is {self.rate}\\nthe id of Account.rate is {id(Account.rate)} \\n        while the id of self.rate is {id(self.rate)}')\n",
    "\n",
    "p1=Account()\n",
    "p1.Meth1()"
   ]
  },
  {
   "cell_type": "code",
   "execution_count": 30,
   "metadata": {},
   "outputs": [
    {
     "data": {
      "text/plain": [
       "'Class method @classmethod and def func(cls) cls is the convention like self for classes'"
      ]
     },
     "execution_count": 30,
     "metadata": {},
     "output_type": "execute_result"
    }
   ],
   "source": [
    "'''Class method @classmethod and def func(cls) cls is the convention like self for classes'''"
   ]
  },
  {
   "cell_type": "code",
   "execution_count": 31,
   "metadata": {},
   "outputs": [
    {
     "name": "stdout",
     "output_type": "stream",
     "text": [
      "There are 0 Homo Sapiens\n"
     ]
    }
   ],
   "source": [
    "class Person:\n",
    "    species=\"Homo Sapiens\"\n",
    "    count=0\n",
    "\n",
    "    def __init__(self,name,age):\n",
    "        self.name=name\n",
    "        self.age=age\n",
    "        Person.count+=1\n",
    "    \n",
    "    def display(self):\n",
    "        print(f'{self.name} is {self.age} yrs old')\n",
    "    \n",
    "    @classmethod\n",
    "    def show_count(cls):\n",
    "        print(f'There are {cls.count} {cls.species}')\n",
    "\n",
    "Person.show_count()\n",
    "p1=Person(\"Jenish\",22)\n",
    "\n",
    "        "
   ]
  },
  {
   "cell_type": "code",
   "execution_count": 32,
   "metadata": {},
   "outputs": [
    {
     "name": "stdout",
     "output_type": "stream",
     "text": [
      "There are 1 Homo Sapiens\n"
     ]
    }
   ],
   "source": [
    "p1.show_count()"
   ]
  },
  {
   "cell_type": "markdown",
   "metadata": {},
   "source": [
    "there is no function overloading in python and we cant initialize __init method twice thats why we need to use class method also the class cant take data types of list or dictionary to make it possible use @classmethod"
   ]
  },
  {
   "cell_type": "markdown",
   "metadata": {},
   "source": []
  },
  {
   "cell_type": "code",
   "execution_count": 33,
   "metadata": {},
   "outputs": [
    {
     "ename": "AttributeError",
     "evalue": "type object 'Person' has no attribute 'from_str'",
     "output_type": "error",
     "traceback": [
      "\u001b[1;31m---------------------------------------------------------------------------\u001b[0m",
      "\u001b[1;31mAttributeError\u001b[0m                            Traceback (most recent call last)",
      "\u001b[1;32md:\\python\\revisionv1.0.ipynb Cell 62'\u001b[0m in \u001b[0;36m<cell line: 22>\u001b[1;34m()\u001b[0m\n\u001b[0;32m     <a href='vscode-notebook-cell:/d%3A/python/revisionv1.0.ipynb#ch0000061?line=19'>20</a>\u001b[0m p1\u001b[39m=\u001b[39mPerson(\u001b[39m\"\u001b[39m\u001b[39mJenish\u001b[39m\u001b[39m\"\u001b[39m,\u001b[39m22\u001b[39m)\n\u001b[0;32m     <a href='vscode-notebook-cell:/d%3A/python/revisionv1.0.ipynb#ch0000061?line=20'>21</a>\u001b[0m s\u001b[39m=\u001b[39m\u001b[39m'\u001b[39m\u001b[39mKajal,23\u001b[39m\u001b[39m'\u001b[39m\n\u001b[1;32m---> <a href='vscode-notebook-cell:/d%3A/python/revisionv1.0.ipynb#ch0000061?line=21'>22</a>\u001b[0m p2\u001b[39m=\u001b[39mPerson\u001b[39m.\u001b[39;49mfrom_str(s)\n\u001b[0;32m     <a href='vscode-notebook-cell:/d%3A/python/revisionv1.0.ipynb#ch0000061?line=22'>23</a>\u001b[0m p2\u001b[39m.\u001b[39mdisplay()\n",
      "\u001b[1;31mAttributeError\u001b[0m: type object 'Person' has no attribute 'from_str'"
     ]
    }
   ],
   "source": [
    "class Person:\n",
    "    species=\"Homo Sapiens\"\n",
    "    count=0\n",
    "\n",
    "    def __init__(self,name,age):\n",
    "        self.name=name\n",
    "        self.age=age\n",
    "        Person.count+=1\n",
    "    \n",
    "    def display(self):\n",
    "        print(f'{self.name} is {self.age} yrs old')\n",
    "    \n",
    "    @classmethod\n",
    "    def show_count(cls,s):\n",
    "        name,age=s.split(',')\n",
    "        return cls(name,int(age))\n",
    "        '''cls refers to the Person class so it means a new class instance and it calls the init method'''\n",
    "        \n",
    "\n",
    "p1=Person(\"Jenish\",22)\n",
    "s='Kajal,23'\n",
    "p2=Person.from_str(s)\n",
    "p2.display()\n",
    "\n",
    "        "
   ]
  },
  {
   "cell_type": "markdown",
   "metadata": {},
   "source": [
    "To make a method that needs to access instance variables -> Instance Method\n",
    "\n",
    "To make a method that needs to use only class variables -> Class Method\n",
    "\n",
    "To make a method that needs to use neither class variables or instance variable -> Static method\n"
   ]
  },
  {
   "cell_type": "markdown",
   "metadata": {},
   "source": [
    "MAGIC METHODS"
   ]
  },
  {
   "cell_type": "code",
   "execution_count": 34,
   "metadata": {},
   "outputs": [],
   "source": [
    "class Fraction:\n",
    "    def __init__(self,nr,dr=1):\n",
    "        self.nr=nr\n",
    "        self.dr=dr\n",
    "        if self.dr<0:\n",
    "            self.nr*=-1\n",
    "            self.dr*=-1\n",
    "        self._reduce()\n",
    "        \n",
    "    def show(self):\n",
    "        print(f'{self.nr}/{self.dr}')\n",
    "    \n",
    "    def add(self,other):\n",
    "        if isinstance(other,int):\n",
    "            other=Fraction(other)\n",
    "        f=Fraction(self.nr*other.dr+self.dr*other.nr)\n",
    "        f._reduce()\n",
    "        return f\n",
    "\n",
    "    def multiply(self,other):\n",
    "        if isinstance(other,int):\n",
    "            other=Fraction(other)\n",
    "        f=Fraction(self.nr*other.nr,self.dr*other.dr)\n",
    "        f._reduce()\n",
    "        return f\n",
    "    \n",
    "    def _reduce(self):\n",
    "        h=Fraction.hcf(self.nr,self.dr)\n",
    "        if h==0:\n",
    "            return\n",
    "        self.nr//=h\n",
    "        self.dr//=h"
   ]
  },
  {
   "cell_type": "code",
   "execution_count": 35,
   "metadata": {},
   "outputs": [
    {
     "data": {
      "text/plain": [
       "'MAGIC METHODS:\\n\\nA+B      a.__add__(b)\\nA//B     a.__floordiv__(b)\\na**b     a.__pow__(b)\\na>=b     a.__ge__(b)\\n\\n+a    a__pos__()\\nabs(a)   a.__invert__()\\nstr(a)   a.__str__()\\n\\n\\nInstance object creation __new__()\\nInstance object initialization __init__(arg1,arg2,...)\\nInstance object deletion    __del__()'"
      ]
     },
     "execution_count": 35,
     "metadata": {},
     "output_type": "execute_result"
    }
   ],
   "source": [
    "'''MAGIC METHODS:\n",
    "\n",
    "A+B      a.__add__(b)\n",
    "A//B     a.__floordiv__(b)\n",
    "a**b     a.__pow__(b)\n",
    "a>=b     a.__ge__(b)\n",
    "\n",
    "+a    a__pos__()\n",
    "abs(a)   a.__invert__()\n",
    "str(a)   a.__str__()\n",
    "\n",
    "\n",
    "Instance object creation __new__()\n",
    "Instance object initialization __init__(arg1,arg2,...)\n",
    "Instance object deletion    __del__()'''\n"
   ]
  },
  {
   "cell_type": "markdown",
   "metadata": {},
   "source": [
    "Inheritance "
   ]
  },
  {
   "cell_type": "code",
   "execution_count": 54,
   "metadata": {},
   "outputs": [
    {
     "name": "stdout",
     "output_type": "stream",
     "text": [
      "ghalate 233\n",
      "I earn 100000\n",
      "Hello I am Kajal\n"
     ]
    },
    {
     "data": {
      "text/plain": [
       "5000.0"
      ]
     },
     "execution_count": 54,
     "metadata": {},
     "output_type": "execute_result"
    }
   ],
   "source": [
    "class Person:\n",
    "    def __init__(self,name,age,address,phone):\n",
    "        self.name=name\n",
    "        self.age=age\n",
    "        self.address=address\n",
    "        self.phone=phone\n",
    "\n",
    "    def greet(self):\n",
    "        print('Hello I am',self.name)\n",
    "    def is_adult(self):\n",
    "        if self.age>18:\n",
    "            return True\n",
    "        else:\n",
    "            return False\n",
    "    def contact_details(self):\n",
    "        print(self.address,self.phone)\n",
    "\n",
    "class Employee(Person):\n",
    "    def __init__(self,name,age,address,phone,salary,office_address,office_phone):\n",
    "        Person.__init__(self,name,age,address,phone)  #calling or overiding from master class        self.salary=salary\n",
    "        self.office_address=office_address\n",
    "        self.office_phone=office_phone\n",
    "        self.salary=salary\n",
    "    def calculate_tax(self):\n",
    "        if self.salary<5000:\n",
    "            return 0\n",
    "        else:\n",
    "            return .05*self.salary\n",
    "    def contact_details(self):\n",
    "        Person.contact_details(self)\n",
    "        print(\"I earn\",self.salary)\n",
    "        \n",
    "\n",
    "emp=Employee(\"Kajal\",23,\"ghalate\",233,1_00_000,\"KTM\",880)\n",
    "emp.contact_details()\n",
    "emp.greet()\n",
    "emp.calculate_tax()"
   ]
  },
  {
   "cell_type": "markdown",
   "metadata": {},
   "source": [
    "main parent class bolauna lai super() use garne"
   ]
  },
  {
   "cell_type": "markdown",
   "metadata": {},
   "source": [
    "super() sanga self rakhnu pardina"
   ]
  },
  {
   "cell_type": "code",
   "execution_count": 56,
   "metadata": {},
   "outputs": [
    {
     "name": "stdout",
     "output_type": "stream",
     "text": [
      "ramandir 233\n",
      "I earn 1000000\n",
      "Hello I am Jenish\n"
     ]
    },
    {
     "data": {
      "text/plain": [
       "50000.0"
      ]
     },
     "execution_count": 56,
     "metadata": {},
     "output_type": "execute_result"
    }
   ],
   "source": [
    "class Person:\n",
    "    def __init__(self,name,age,address,phone):\n",
    "        self.name=name\n",
    "        self.age=age\n",
    "        self.address=address\n",
    "        self.phone=phone\n",
    "\n",
    "    def greet(self):\n",
    "        print('Hello I am',self.name)\n",
    "    def is_adult(self):\n",
    "        if self.age>18:\n",
    "            return True\n",
    "        else:\n",
    "            return False\n",
    "    def contact_details(self):\n",
    "        print(self.address,self.phone)\n",
    "\n",
    "class Employee(Person):\n",
    "    def __init__(self,name,age,address,phone,salary,office_address,office_phone):\n",
    "        super().__init__(name,age,address,phone)  #calling or overiding from master class        \n",
    "        self.office_address=office_address\n",
    "        self.office_phone=office_phone\n",
    "        self.salary=salary\n",
    "    def calculate_tax(self):\n",
    "        if self.salary<5000:\n",
    "            return 0\n",
    "        else:\n",
    "            return .05*self.salary\n",
    "    def contact_details(self):\n",
    "        super().contact_details() #super halexi self halnu pardina, supe()==mainClassname\n",
    "        print(\"I earn\",self.salary)\n",
    "        \n",
    "\n",
    "emp=Employee(\"Jenish\",22,\"ramandir\",233,1_00_0000,\"LA\",880)\n",
    "emp.contact_details()\n",
    "emp.greet()\n",
    "emp.calculate_tax()"
   ]
  },
  {
   "cell_type": "code",
   "execution_count": 50,
   "metadata": {},
   "outputs": [
    {
     "data": {
      "text/plain": [
       "100000"
      ]
     },
     "execution_count": 50,
     "metadata": {},
     "output_type": "execute_result"
    }
   ],
   "source": [
    "emp.salary\n"
   ]
  },
  {
   "cell_type": "code",
   "execution_count": 39,
   "metadata": {},
   "outputs": [
    {
     "data": {
      "text/plain": [
       "False"
      ]
     },
     "execution_count": 39,
     "metadata": {},
     "output_type": "execute_result"
    }
   ],
   "source": [
    "isinstance(emp,int)"
   ]
  },
  {
   "cell_type": "code",
   "execution_count": 40,
   "metadata": {},
   "outputs": [
    {
     "data": {
      "text/plain": [
       "True"
      ]
     },
     "execution_count": 40,
     "metadata": {},
     "output_type": "execute_result"
    }
   ],
   "source": [
    "isinstance(emp,Employee)"
   ]
  },
  {
   "cell_type": "code",
   "execution_count": 41,
   "metadata": {},
   "outputs": [
    {
     "data": {
      "text/plain": [
       "True"
      ]
     },
     "execution_count": 41,
     "metadata": {},
     "output_type": "execute_result"
    }
   ],
   "source": [
    "issubclass(Employee,Person)"
   ]
  },
  {
   "cell_type": "markdown",
   "metadata": {},
   "source": [
    "Multiple Inheritance"
   ]
  },
  {
   "cell_type": "code",
   "execution_count": 66,
   "metadata": {},
   "outputs": [
    {
     "name": "stdout",
     "output_type": "stream",
     "text": [
      "I am a person\n",
      "I am a student\n",
      "I am a person\n",
      "I am a teacher\n",
      "I am a teacher\n"
     ]
    }
   ],
   "source": [
    "class Person:\n",
    "    def greet(self):\n",
    "        print(\"I am a person\")\n",
    "    \n",
    "class Teacher(Person):\n",
    "    def greet(self):\n",
    "        Person.greet(self)\n",
    "        print(\"I am a teacher\")\n",
    "\n",
    "class Student(Person):\n",
    "    def greet(self):\n",
    "        Person.greet(self)\n",
    "        print(\"I am a student\")\n",
    "\n",
    "class TeacherAssistant(Student,Teacher):\n",
    "    def greet(self):\n",
    "        Student.greet(self)\n",
    "        Teacher.greet(self)\n",
    "\n",
    "        print(\"I am a teacher\")\n",
    "\n",
    "x=TeacherAssistant()\n",
    "x.greet()\n",
    "#MRO follow garxa tesko lagi tala ko example pani hera\n"
   ]
  },
  {
   "cell_type": "markdown",
   "metadata": {},
   "source": [
    "(MRO) \n",
    "Method resolution order in Python Inheritance\n",
    "Kun order ma inheritance hunxa vanera herna lai use garinxa"
   ]
  },
  {
   "cell_type": "code",
   "execution_count": 61,
   "metadata": {},
   "outputs": [
    {
     "name": "stdout",
     "output_type": "stream",
     "text": [
      "Help on class TeacherAssistant in module __main__:\n",
      "\n",
      "class TeacherAssistant(Student, Teacher)\n",
      " |  Method resolution order:\n",
      " |      TeacherAssistant\n",
      " |      Student\n",
      " |      Teacher\n",
      " |      Person\n",
      " |      builtins.object\n",
      " |  \n",
      " |  Methods defined here:\n",
      " |  \n",
      " |  greet(self)\n",
      " |  \n",
      " |  ----------------------------------------------------------------------\n",
      " |  Data descriptors inherited from Person:\n",
      " |  \n",
      " |  __dict__\n",
      " |      dictionary for instance variables (if defined)\n",
      " |  \n",
      " |  __weakref__\n",
      " |      list of weak references to the object (if defined)\n",
      "\n"
     ]
    }
   ],
   "source": [
    "help(TeacherAssistant)"
   ]
  },
  {
   "cell_type": "code",
   "execution_count": 67,
   "metadata": {},
   "outputs": [
    {
     "name": "stdout",
     "output_type": "stream",
     "text": [
      "I am a person\n",
      "I am a teacher\n",
      "I am a student\n",
      "I am a teacher\n"
     ]
    }
   ],
   "source": [
    "class Person:\n",
    "    def greet(self):\n",
    "        print(\"I am a person\")\n",
    "    \n",
    "class Teacher(Person):\n",
    "    def greet(self):\n",
    "        super().greet()\n",
    "        print(\"I am a teacher\")\n",
    "\n",
    "class Student(Person):\n",
    "    def greet(self):\n",
    "        super().greet()\n",
    "        print(\"I am a student\")\n",
    "\n",
    "class TeacherAssistant(Student,Teacher):\n",
    "    def greet(self):\n",
    "        super().greet()\n",
    "        print(\"I am a teacher\")\n",
    "\n",
    "x=TeacherAssistant()\n",
    "x.greet()\n"
   ]
  },
  {
   "cell_type": "code",
   "execution_count": null,
   "metadata": {},
   "outputs": [],
   "source": [
    "fnccbffgxvbbbmnmbvhxfgddfaqeryrtytiuyouipipkl.,mmnvbcxvxzczcxcsZsaeaesdxhbm.bnbnmbnbnmbnbnvbnvnbv     cxdvngbf bvc bxdf gjhv nbcb v bmm bn b nbv  bn  bnm nm fcvb bmn bmnnbm mbn bjmnjn,bmmbhxcvv                                          nvbbmnnvesdxvcnkmn      bnnbmbnbmnbbmbnbmbnmmn"
   ]
  }
 ],
 "metadata": {
  "interpreter": {
   "hash": "ac59ebe37160ed0dfa835113d9b8498d9f09ceb179beaac4002f036b9467c963"
  },
  "kernelspec": {
   "display_name": "Python 3.9.5 64-bit",
   "language": "python",
   "name": "python3"
  },
  "language_info": {
   "codemirror_mode": {
    "name": "ipython",
    "version": 3
   },
   "file_extension": ".py",
   "mimetype": "text/x-python",
   "name": "python",
   "nbconvert_exporter": "python",
   "pygments_lexer": "ipython3",
   "version": "3.9.5"
  },
  "orig_nbformat": 4
 },
 "nbformat": 4,
 "nbformat_minor": 2
}
