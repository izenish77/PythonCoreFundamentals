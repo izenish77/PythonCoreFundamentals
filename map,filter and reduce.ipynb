{
 "cells": [
  {
   "cell_type": "markdown",
   "metadata": {},
   "source": [
    "#Filter  \n",
    "While map() passes each element in the iterable through a function and returns the result of all elements having passed through the function, filter(), first of all, requires the function to return boolean values (true or false) and then passes each element in the iterable through the function, \"filtering\" away those that are false. It has the following syntax:\n",
    "\n",
    "**filter(func, iterable)**"
   ]
  },
  {
   "cell_type": "markdown",
   "metadata": {},
   "source": [
    "filter passes each element in the iterable through func and returns only the ones that evaluate to true. I mean, it's right there in the name -- a \"filter\"."
   ]
  },
  {
   "cell_type": "code",
   "execution_count": 3,
   "metadata": {},
   "outputs": [
    {
     "data": {
      "text/plain": [
       "[2, 4, 6, 8]"
      ]
     },
     "execution_count": 3,
     "metadata": {},
     "output_type": "execute_result"
    }
   ],
   "source": [
    "a=[1,2,3,4,5,6,7,8,9]\n",
    "def func(a):\n",
    "    return a%2==0\n",
    "\n",
    "z=list(filter(func,a))\n",
    "z"
   ]
  },
  {
   "cell_type": "code",
   "execution_count": 6,
   "metadata": {},
   "outputs": [
    {
     "name": "stdout",
     "output_type": "stream",
     "text": [
      "8\n",
      "[8, 9]\n",
      "[1, 2, 3, 4, 5, 6, 7]\n",
      "[9, 8, 7, 6, 5, 4, 3, 2, 1]\n",
      "[2, 1]\n"
     ]
    }
   ],
   "source": [
    "'slicing in py'\n",
    "print(a[-2])\n",
    "print(a[-2:])\n",
    "print(a[:-2])\n",
    "print(a[::-1])\n",
    "print(a[1::-1])"
   ]
  },
  {
   "cell_type": "code",
   "execution_count": 11,
   "metadata": {},
   "outputs": [
    {
     "data": {
      "text/plain": [
       "['MoM', 'dad']"
      ]
     },
     "execution_count": 11,
     "metadata": {},
     "output_type": "execute_result"
    }
   ],
   "source": [
    "\"Palindrome Filter\"\n",
    "p=[\"MoM\",\"Amore\",\"dad\",\"Roma\",\"Jenish\"]\n",
    "\n",
    "def check(a):\n",
    "    return (a==a[::-1])\n",
    "z=list(filter(check,p))\n",
    "z"
   ]
  },
  {
   "cell_type": "code",
   "execution_count": 12,
   "metadata": {},
   "outputs": [
    {
     "data": {
      "text/plain": [
       "['MoM', 'dad']"
      ]
     },
     "execution_count": 12,
     "metadata": {},
     "output_type": "execute_result"
    }
   ],
   "source": [
    "\"Palindrome Filter using lambda\"\n",
    "p=[\"MoM\",\"Amore\",\"dad\",\"Roma\",\"Jenish\"]\n",
    "\n",
    "\n",
    "z=list(filter(lambda a:a==a[::-1],p))\n",
    "z"
   ]
  },
  {
   "cell_type": "markdown",
   "metadata": {},
   "source": [
    "#MAP  \n",
    "**map(func, *iterables)**"
   ]
  },
  {
   "cell_type": "markdown",
   "metadata": {},
   "source": [
    "the function returns a map object which is a generator object. To get the result as a list, the built-in list() function can be called on the map object. i.e. list(map(func, *iterables))"
   ]
  },
  {
   "cell_type": "code",
   "execution_count": 13,
   "metadata": {},
   "outputs": [
    {
     "data": {
      "text/plain": [
       "['ALFRED', 'TABITHA', 'WILLIAM', 'ARLA']"
      ]
     },
     "execution_count": 13,
     "metadata": {},
     "output_type": "execute_result"
    }
   ],
   "source": [
    "my_pets = ['alfred', 'tabitha', 'william', 'arla']\n",
    "cpets=list(map(lambda a:a.upper(),my_pets))\n",
    "cpets"
   ]
  },
  {
   "cell_type": "code",
   "execution_count": 20,
   "metadata": {},
   "outputs": [
    {
     "name": "stdout",
     "output_type": "stream",
     "text": [
      "[3.6, 5.58, 4.009, 56.2424, 9.01344, 32.00013]\n"
     ]
    }
   ],
   "source": [
    "'can have as many iterables or parameters'\n",
    "circle_areas = [3.56773, 5.57668, 4.00914, 56.24241, 9.01344, 32.00013]\n",
    "ro=list(map(round,circle_areas,range(1,8)))\n",
    "print(ro)"
   ]
  },
  {
   "cell_type": "markdown",
   "metadata": {},
   "source": [
    "#Reduce  \n",
    "**reduce(func, iterable[, initial])**\n"
   ]
  },
  {
   "cell_type": "markdown",
   "metadata": {},
   "source": [
    "The argument function is applied cumulatively to arguments in the list from left to right. The result of the function in the first call becomes the first argument and the third item in list becomes second. This is repeated until the list is exhausted."
   ]
  },
  {
   "cell_type": "code",
   "execution_count": 22,
   "metadata": {},
   "outputs": [
    {
     "name": "stdout",
     "output_type": "stream",
     "text": [
      "The current first is 3\n",
      "The current Second is 4\n",
      "sum=7\n",
      "The current first is 7\n",
      "The current Second is 6\n",
      "sum=13\n",
      "The current first is 13\n",
      "The current Second is 9\n",
      "sum=22\n",
      "The current first is 22\n",
      "The current Second is 34\n",
      "sum=56\n",
      "The current first is 56\n",
      "The current Second is 12\n",
      "sum=68\n",
      "68\n"
     ]
    }
   ],
   "source": [
    "# Python 3\n",
    "from functools import reduce\n",
    "\n",
    "numbers = [3, 4, 6, 9, 34, 12]\n",
    "\n",
    "def custom_sum(first, second):\n",
    "    print(f'The current first is {first}')\n",
    "    print(f'The current Second is {second}')\n",
    "    print(f'sum={first+second}')\n",
    "\n",
    "    return first + second\n",
    "\n",
    "result = reduce(custom_sum, numbers)\n",
    "print(result)"
   ]
  }
 ],
 "metadata": {
  "interpreter": {
   "hash": "ac59ebe37160ed0dfa835113d9b8498d9f09ceb179beaac4002f036b9467c963"
  },
  "kernelspec": {
   "display_name": "Python 3.9.5 64-bit",
   "language": "python",
   "name": "python3"
  },
  "language_info": {
   "codemirror_mode": {
    "name": "ipython",
    "version": 3
   },
   "file_extension": ".py",
   "mimetype": "text/x-python",
   "name": "python",
   "nbconvert_exporter": "python",
   "pygments_lexer": "ipython3",
   "version": "3.9.5"
  },
  "orig_nbformat": 4
 },
 "nbformat": 4,
 "nbformat_minor": 2
}
