{
 "cells": [
  {
   "cell_type": "code",
   "execution_count": 3,
   "metadata": {},
   "outputs": [
    {
     "name": "stdout",
     "output_type": "stream",
     "text": [
      "Sorry no files found!\n"
     ]
    }
   ],
   "source": [
    "try:\n",
    "    f=open('file.txt')\n",
    "except Exception:\n",
    "    'Instead of random error msg custom msg will be displayed'\n",
    "    print(\"Sorry no files found!\")"
   ]
  },
  {
   "cell_type": "code",
   "execution_count": 7,
   "metadata": {},
   "outputs": [
    {
     "name": "stdout",
     "output_type": "stream",
     "text": [
      "name 'bad_var' is not defined\n"
     ]
    }
   ],
   "source": [
    "try:\n",
    "    f=open('stringFormating.ipynb')\n",
    "    var=bad_var\n",
    "except FileNotFoundError as e:\n",
    "    print(e)\n",
    "except Exception as e:\n",
    "    print(e)\n",
    "\n"
   ]
  },
  {
   "cell_type": "code",
   "execution_count": null,
   "metadata": {},
   "outputs": [],
   "source": []
  },
  {
   "cell_type": "code",
   "execution_count": 9,
   "metadata": {},
   "outputs": [
    {
     "name": "stdout",
     "output_type": "stream",
     "text": [
      "No errors\n"
     ]
    }
   ],
   "source": [
    "try:\n",
    "    f=open('stringFormating.ipynb')\n",
    "    var=1\n",
    "except FileNotFoundError as e:\n",
    "    print(e)\n",
    "except Exception as e:\n",
    "    print(e)\n",
    "else:\n",
    "    print(\"No errors\")\n",
    "    'Runs when theres no error to catch'\n"
   ]
  },
  {
   "cell_type": "code",
   "execution_count": 16,
   "metadata": {},
   "outputs": [
    {
     "name": "stdout",
     "output_type": "stream",
     "text": [
      "X errors\n",
      "Executing Finally...\n"
     ]
    }
   ],
   "source": [
    "try:\n",
    "    f=open('stringFormating.ipynb')\n",
    "    var=11\n",
    "except FileNotFoundError as e:\n",
    "    print(e)\n",
    "except Exception as e:\n",
    "    print(e)\n",
    "else:\n",
    "    print(\"X errors\")\n",
    "finally:\n",
    "     print('Executing Finally...')   \n",
    "     'Finally runs no matter if error is perceived or not'\n",
    "\n"
   ]
  },
  {
   "cell_type": "markdown",
   "metadata": {},
   "source": [
    "We can raise our own errors or exceptions"
   ]
  },
  {
   "cell_type": "code",
   "execution_count": 18,
   "metadata": {},
   "outputs": [
    {
     "name": "stdout",
     "output_type": "stream",
     "text": [
      "My own error\n",
      "Executing Finally...\n"
     ]
    }
   ],
   "source": [
    "try:\n",
    "    f=open('stringFormating.ipynb')\n",
    "    var=11\n",
    "    if f.name=='stringFormating.ipynb':\n",
    "        raise Exception\n",
    "except FileNotFoundError as e:\n",
    "    print(e)\n",
    "except Exception as e:\n",
    "    print(\"My own error\")\n",
    "    \n",
    "else:\n",
    "    print(\"X errors\")\n",
    "finally:\n",
    "     print('Executing Finally...')   \n",
    "     'Finally runs no matter if error is perceived or not'\n",
    "\n"
   ]
  },
  {
   "cell_type": "code",
   "execution_count": null,
   "metadata": {},
   "outputs": [],
   "source": []
  }
 ],
 "metadata": {
  "interpreter": {
   "hash": "ac59ebe37160ed0dfa835113d9b8498d9f09ceb179beaac4002f036b9467c963"
  },
  "kernelspec": {
   "display_name": "Python 3.9.5 64-bit",
   "language": "python",
   "name": "python3"
  },
  "language_info": {
   "codemirror_mode": {
    "name": "ipython",
    "version": 3
   },
   "file_extension": ".py",
   "mimetype": "text/x-python",
   "name": "python",
   "nbconvert_exporter": "python",
   "pygments_lexer": "ipython3",
   "version": "3.9.5"
  },
  "orig_nbformat": 4
 },
 "nbformat": 4,
 "nbformat_minor": 2
}
